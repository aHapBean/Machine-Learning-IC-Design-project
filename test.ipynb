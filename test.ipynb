{
 "cells": [
  {
   "cell_type": "code",
   "execution_count": 15,
   "metadata": {},
   "outputs": [],
   "source": [
    "def b7(number):\n",
    "    if number == 0:\n",
    "        return '0'\n",
    "    if number < 0:\n",
    "        sign = '-'\n",
    "        number = abs(number)\n",
    "    else:\n",
    "        sign = ''\n",
    "    digits = ''\n",
    "    while number > 0:\n",
    "        digits = str(number % 7) + digits\n",
    "        number //= 7\n",
    "    return sign + digits\n",
    "def b8(number):\n",
    "    if number == 0:\n",
    "        return '0'\n",
    "    if number < 0:\n",
    "        sign = '-'\n",
    "        number = abs(number)\n",
    "    else:\n",
    "        sign = ''\n",
    "    digits = ''\n",
    "    while number > 0:\n",
    "        digits = str(number % 8) + digits\n",
    "        number //= 8\n",
    "    return sign + digits"
   ]
  },
  {
   "cell_type": "code",
   "execution_count": 21,
   "metadata": {},
   "outputs": [
    {
     "name": "stdout",
     "output_type": "stream",
     "text": [
      "343050\r"
     ]
    },
    {
     "ename": "KeyboardInterrupt",
     "evalue": "",
     "output_type": "error",
     "traceback": [
      "\u001b[0;31m---------------------------------------------------------------------------\u001b[0m",
      "\u001b[0;31mKeyboardInterrupt\u001b[0m                         Traceback (most recent call last)",
      "Cell \u001b[0;32mIn[21], line 5\u001b[0m\n\u001b[1;32m      3\u001b[0m \u001b[38;5;28;01mfor\u001b[39;00m i \u001b[38;5;129;01min\u001b[39;00m \u001b[38;5;28mrange\u001b[39m(TOTAL):\n\u001b[1;32m      4\u001b[0m     \u001b[38;5;28mprint\u001b[39m(b7(i), end\u001b[38;5;241m=\u001b[39m\u001b[38;5;124m'\u001b[39m\u001b[38;5;130;01m\\r\u001b[39;00m\u001b[38;5;124m'\u001b[39m)\n\u001b[0;32m----> 5\u001b[0m     time\u001b[38;5;241m.\u001b[39msleep(\u001b[38;5;241m0.00001\u001b[39m)\n",
      "\u001b[0;31mKeyboardInterrupt\u001b[0m: "
     ]
    }
   ],
   "source": [
    "import time\n",
    "TOTAL = 7**10\n",
    "for i in range(TOTAL):\n",
    "    print(b7(i), end='\\r')\n",
    "    time.sleep(0.00001)"
   ]
  },
  {
   "cell_type": "code",
   "execution_count": 23,
   "metadata": {},
   "outputs": [
    {
     "data": {
      "text/plain": [
       "[203540531,\n",
       " 190493974,\n",
       " 17764928,\n",
       " 98567309,\n",
       " 163082943,\n",
       " 203864600,\n",
       " 174624495,\n",
       " 103386704,\n",
       " 126159405,\n",
       " 208945708,\n",
       " 37501286,\n",
       " 170131197,\n",
       " 227312680,\n",
       " 58089101,\n",
       " 98636232,\n",
       " 25538861,\n",
       " 42635895,\n",
       " 133338685,\n",
       " 119754192,\n",
       " 16055724]"
      ]
     },
     "execution_count": 23,
     "metadata": {},
     "output_type": "execute_result"
    }
   ],
   "source": [
    "import random\n",
    "samples = random.sample(range(TOTAL), 20)\n",
    "samples"
   ]
  }
 ],
 "metadata": {
  "kernelspec": {
   "display_name": "ml",
   "language": "python",
   "name": "python3"
  },
  "language_info": {
   "codemirror_mode": {
    "name": "ipython",
    "version": 3
   },
   "file_extension": ".py",
   "mimetype": "text/x-python",
   "name": "python",
   "nbconvert_exporter": "python",
   "pygments_lexer": "ipython3",
   "version": "3.11.9"
  }
 },
 "nbformat": 4,
 "nbformat_minor": 2
}
